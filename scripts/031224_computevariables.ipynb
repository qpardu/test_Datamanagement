{
  "metadata": {
    "kernelspec": {
      "name": "python",
      "display_name": "Python (Pyodide)",
      "language": "python"
    },
    "language_info": {
      "codemirror_mode": {
        "name": "python",
        "version": 3
      },
      "file_extension": ".py",
      "mimetype": "text/x-python",
      "name": "python",
      "nbconvert_exporter": "python",
      "pygments_lexer": "ipython3",
      "version": "3.8"
    }
  },
  "nbformat_minor": 4,
  "nbformat": 4,
  "cells": [
    {
      "cell_type": "markdown",
      "source": "# Contact Information",
      "metadata": {}
    },
    {
      "cell_type": "markdown",
      "source": "Author: Qendresa Parduz\n\nEmail: qendresa.parduzi@students.unibe.ch\n\nDate: 03.12.2024\n\n",
      "metadata": {}
    },
    {
      "cell_type": "markdown",
      "source": "# Analysis ",
      "metadata": {}
    },
    {
      "cell_type": "markdown",
      "source": "## Comptue variables",
      "metadata": {}
    },
    {
      "cell_type": "markdown",
      "source": "Here we compute variables:\n* temperature\n* humidity\n",
      "metadata": {}
    },
    {
      "cell_type": "code",
      "source": "temperature = 345/12\ntemperature",
      "metadata": {
        "trusted": true
      },
      "outputs": [
        {
          "execution_count": 2,
          "output_type": "execute_result",
          "data": {
            "text/plain": "28.75"
          },
          "metadata": {}
        }
      ],
      "execution_count": 2
    },
    {
      "cell_type": "code",
      "source": "",
      "metadata": {
        "trusted": true
      },
      "outputs": [],
      "execution_count": null
    }
  ]
}